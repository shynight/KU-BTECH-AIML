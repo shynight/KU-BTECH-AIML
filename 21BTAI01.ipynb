{
  "nbformat": 4,
  "nbformat_minor": 0,
  "metadata": {
    "colab": {
      "name": "21BTAI01.ipynb",
      "provenance": [],
      "collapsed_sections": [],
      "authorship_tag": "ABX9TyN9jjMl2yubdhlfJ4PWVmFX",
      "include_colab_link": true
    },
    "kernelspec": {
      "name": "python3",
      "display_name": "Python 3"
    },
    "language_info": {
      "name": "python"
    }
  },
  "cells": [
    {
      "cell_type": "markdown",
      "metadata": {
        "id": "view-in-github",
        "colab_type": "text"
      },
      "source": [
        "<a href=\"https://colab.research.google.com/github/shynight/KU-BTECH-AIML/blob/main/21BTAI01.ipynb\" target=\"_parent\"><img src=\"https://colab.research.google.com/assets/colab-badge.svg\" alt=\"Open In Colab\"/></a>"
      ]
    },
    {
      "cell_type": "markdown",
      "source": [
        "Adityawardhan Mishra 21BTAI01 B.TECH. (AIML)"
      ],
      "metadata": {
        "id": "OL-WrgEDo22J"
      }
    },
    {
      "cell_type": "markdown",
      "source": [
        "Experiment 1 - Type of variables"
      ],
      "metadata": {
        "id": "G5FbA_FUT1o-"
      }
    },
    {
      "cell_type": "code",
      "source": [
        "a=int(input(\"enter the value of a:\"))\n",
        "print(a)\n",
        "type(a)"
      ],
      "metadata": {
        "colab": {
          "base_uri": "https://localhost:8080/"
        },
        "id": "CCg5SSl2TREI",
        "outputId": "f140a424-a69b-42b7-e567-e66413579742"
      },
      "execution_count": null,
      "outputs": [
        {
          "output_type": "stream",
          "name": "stdout",
          "text": [
            "enter the value of a:1\n",
            "1\n"
          ]
        },
        {
          "output_type": "execute_result",
          "data": {
            "text/plain": [
              "int"
            ]
          },
          "metadata": {},
          "execution_count": 1
        }
      ]
    },
    {
      "cell_type": "code",
      "source": [
        "b=input(\"enter the string:\")\n",
        "print(b)\n",
        "type(b)"
      ],
      "metadata": {
        "colab": {
          "base_uri": "https://localhost:8080/"
        },
        "id": "uqUFhnbbTmqS",
        "outputId": "a338f570-31f5-4ada-815b-c507a95e8c45"
      },
      "execution_count": null,
      "outputs": [
        {
          "output_type": "stream",
          "name": "stdout",
          "text": [
            "enter the string:hello\n",
            "hello\n"
          ]
        },
        {
          "output_type": "execute_result",
          "data": {
            "text/plain": [
              "str"
            ]
          },
          "metadata": {},
          "execution_count": 2
        }
      ]
    },
    {
      "cell_type": "markdown",
      "source": [
        "Experiment 2 - Algebraic Expressions"
      ],
      "metadata": {
        "id": "QKZ74dD5UFqy"
      }
    },
    {
      "cell_type": "code",
      "source": [
        "x1=float(input(\"Give value of x1 :\"))\n",
        "x2=float(input(\"Give value of x2 :\"))\n",
        "y1=float(input(\"Give value of y1 :\"))\n",
        "y2=float(input(\"Give value of y2 :\"))\n",
        "answer=(x1-y1**2)+(y1-y2**2)\n",
        "print(\"your answer\",answer)"
      ],
      "metadata": {
        "colab": {
          "base_uri": "https://localhost:8080/"
        },
        "id": "Jy8EQc0UT0II",
        "outputId": "6b909b28-ce44-4ff3-d9d5-64406d1fd806"
      },
      "execution_count": null,
      "outputs": [
        {
          "output_type": "stream",
          "name": "stdout",
          "text": [
            "Give value of x1 :2\n",
            "Give value of x2 :1\n",
            "Give value of y1 :5\n",
            "Give value of y2 :3\n",
            "your answer -27.0\n"
          ]
        }
      ]
    },
    {
      "cell_type": "markdown",
      "source": [
        "Experiment 3 - List and Tuples"
      ],
      "metadata": {
        "id": "DiOLR3pUT3Ik"
      }
    },
    {
      "cell_type": "code",
      "execution_count": null,
      "metadata": {
        "colab": {
          "base_uri": "https://localhost:8080/"
        },
        "id": "WynGPJvSTOH_",
        "outputId": "fe53b958-1ee3-497b-b54f-c4fcf7afee27"
      },
      "outputs": [
        {
          "output_type": "stream",
          "name": "stdout",
          "text": [
            "['Aditya', 'Vedant', 'Arpit']\n",
            "Aditya\n",
            "Vedant\n",
            "Arpit\n",
            "('Aditya', 'Vedant', 'Arpit')\n",
            "Aditya\n",
            "Vedant\n",
            "Arpit\n"
          ]
        }
      ],
      "source": [
        "list1=[\"Aditya\",\"Vedant\",\"Arpit\"]\n",
        "print(list1)\n",
        "for i in list1:\n",
        "  print(i)\n",
        "#------------------\n",
        "tuple1=(\"Aditya\",\"Vedant\",\"Arpit\")\n",
        "print(tuple1)\n",
        "for i in tuple1:\n",
        "  print(i)"
      ]
    },
    {
      "cell_type": "markdown",
      "source": [
        "Experiment 4 - Odd and Even"
      ],
      "metadata": {
        "id": "aoYfOl_HWdW8"
      }
    },
    {
      "cell_type": "code",
      "source": [
        "n=int(input(\"Enter a number: \"))\n",
        "if n%2==0:\n",
        "   print(n,\"is even\")\n",
        "else:\n",
        "   print(n,\"is odd\")"
      ],
      "metadata": {
        "colab": {
          "base_uri": "https://localhost:8080/"
        },
        "id": "lSH3kZ0wWg_n",
        "outputId": "c1ccfdc2-5580-4555-ea86-b18429a3f00f"
      },
      "execution_count": null,
      "outputs": [
        {
          "output_type": "stream",
          "name": "stdout",
          "text": [
            "Enter a number: 1\n",
            "1 is odd\n"
          ]
        }
      ]
    },
    {
      "cell_type": "markdown",
      "source": [
        "Experiment 5 - Armstrong Number"
      ],
      "metadata": {
        "id": "sDXwI4XRZmQd"
      }
    },
    {
      "cell_type": "code",
      "source": [
        "n=input(\"Enter number:\")\n",
        "li=list(n)\n",
        "\n",
        "l=len(n)\n",
        "sum=0\n",
        "for i in range(l):\n",
        "    sum+=pow(int(li[i]),l)\n",
        "\n",
        "if(int(n)==sum):\n",
        "    print(\"It is armstrong\")\n",
        "else:\n",
        "    print(\"It is not armstrong\")"
      ],
      "metadata": {
        "colab": {
          "base_uri": "https://localhost:8080/"
        },
        "id": "HKwAeNz_XXfF",
        "outputId": "18ffbd9b-07ba-407d-af06-96324b5e6281"
      },
      "execution_count": null,
      "outputs": [
        {
          "output_type": "stream",
          "name": "stdout",
          "text": [
            "Enter number:9474\n",
            "It is armstrong\n"
          ]
        }
      ]
    },
    {
      "cell_type": "markdown",
      "source": [
        "Experiment 6 - Dictionaries (Counting Characters)"
      ],
      "metadata": {
        "id": "yjwVTWJkZxJL"
      }
    },
    {
      "cell_type": "code",
      "source": [
        "y=input(\"Enter the string:\")\n",
        "d={}\n",
        "for i in y:\n",
        "  if i in d:\n",
        "    d[i]+=1\n",
        "  else :\n",
        "    d[i]=1\n",
        "print(d)"
      ],
      "metadata": {
        "colab": {
          "base_uri": "https://localhost:8080/"
        },
        "id": "V6mZQyxNZ7Js",
        "outputId": "01848c3d-5520-405b-975d-3db637f05eb2"
      },
      "execution_count": null,
      "outputs": [
        {
          "output_type": "stream",
          "name": "stdout",
          "text": [
            "Enter the string:aryan\n",
            "{'a': 2, 'r': 1, 'y': 1, 'n': 1}\n"
          ]
        }
      ]
    },
    {
      "cell_type": "markdown",
      "source": [
        "Experiment 7 - Sequences"
      ],
      "metadata": {
        "id": "RBKBIDZ6a1Rc"
      }
    },
    {
      "cell_type": "code",
      "source": [
        "import sympy\n",
        "sum=0\n",
        "for i in range(0,3490001):\n",
        "  if(sympy.isprime(i))==True:\n",
        "    sum+=i\n",
        "print(sum)"
      ],
      "metadata": {
        "colab": {
          "base_uri": "https://localhost:8080/"
        },
        "id": "z43USpH1a5Le",
        "outputId": "ccf84aa6-1206-4ec6-c871-2dbe245f8c1d"
      },
      "execution_count": null,
      "outputs": [
        {
          "output_type": "stream",
          "name": "stdout",
          "text": [
            "418447415491\n"
          ]
        }
      ]
    },
    {
      "cell_type": "code",
      "source": [
        "def fibonacci():\n",
        "  seq=[1,2]\n",
        "  total=0\n",
        "  while seq[-1]<100000:\n",
        "    if seq[-1]%2==0:\n",
        "      total+=seq[-1]\n",
        "    seq.append(seq[-1]+seq[-2])\n",
        "  print(total)\n",
        "fibonacci()"
      ],
      "metadata": {
        "colab": {
          "base_uri": "https://localhost:8080/"
        },
        "id": "rmCJMZ2kbSVm",
        "outputId": "10393710-43fc-4320-967d-cea1bb60fb00"
      },
      "execution_count": null,
      "outputs": [
        {
          "output_type": "stream",
          "name": "stdout",
          "text": [
            "60696\n"
          ]
        }
      ]
    },
    {
      "cell_type": "code",
      "source": [
        "l=[1,2,3,4,5,8,6,9,1,3,6,7,8]\n",
        "li=[]\n",
        "for i in l:\n",
        "    if i not in li:\n",
        "        li.append(i)\n",
        "    else:\n",
        "        print(i,end=' ')"
      ],
      "metadata": {
        "colab": {
          "base_uri": "https://localhost:8080/"
        },
        "id": "b0gN0FyQb3pM",
        "outputId": "eba8e312-f6c5-48ed-ba04-503281a73fb8"
      },
      "execution_count": null,
      "outputs": [
        {
          "output_type": "stream",
          "name": "stdout",
          "text": [
            "1 3 6 8 "
          ]
        }
      ]
    },
    {
      "cell_type": "markdown",
      "source": [
        "Experiment 8 - Mean and Median"
      ],
      "metadata": {
        "id": "LhnMHNgic1W7"
      }
    },
    {
      "cell_type": "code",
      "source": [
        "n=[10, 20, 15, 25, 80]\n",
        "l=len(n)\n",
        "t=0\n",
        "for i in range(l) :\n",
        "  t+=n[i]\n",
        "print(\"Sum is\",t)\n",
        "mean=t/l\n",
        "print(\"Mean is\",mean)"
      ],
      "metadata": {
        "colab": {
          "base_uri": "https://localhost:8080/"
        },
        "id": "YnPRTfq2c6bI",
        "outputId": "8d9efec9-b625-43f9-aaaf-7fcef498761a"
      },
      "execution_count": null,
      "outputs": [
        {
          "output_type": "stream",
          "name": "stdout",
          "text": [
            "Sum is 150\n",
            "Mean is 30.0\n"
          ]
        }
      ]
    },
    {
      "cell_type": "code",
      "source": [
        "num=[10, 20, 15, 25, 80]\n",
        "no=len(num)\n",
        "num.sort()\n",
        "if no % 2 == 0:\n",
        "  median1 = num[no//2]\n",
        "  median2 = num[no//2 - 1]\n",
        "  median = (median1 + median2)/2\n",
        "else:\n",
        "  median = num[no//2]\n",
        "print(\"The Median of\", num, \"is\",median=)"
      ],
      "metadata": {
        "colab": {
          "base_uri": "https://localhost:8080/"
        },
        "id": "-6rhKli5eai5",
        "outputId": "7da36e89-58c4-4c3b-ae99-ca54af608046"
      },
      "execution_count": null,
      "outputs": [
        {
          "output_type": "stream",
          "name": "stdout",
          "text": [
            "The Median of [10, 15, 20, 25, 80] is 20\n"
          ]
        }
      ]
    },
    {
      "cell_type": "markdown",
      "source": [
        "Experiment 9 - Password and Login system"
      ],
      "metadata": {
        "id": "q4FZ2AhKfAU_"
      }
    },
    {
      "cell_type": "code",
      "source": [
        "d = {\"Aditya\" : \"Rock123\" , \"Vedant\": \"Paper123\", \"Arpit\" :\"Scissors123\"}\n",
        "user=input(\"Enter the username: \")\n",
        "if user in d:\n",
        "  pswd= input(\"Enter the password: \")\n",
        "  if d[user]== pswd :\n",
        "    print(\"You are logged in to system!\")\n",
        "  else :\n",
        "    print(\"You have entered wrong password\")\n",
        "else :\n",
        "  print(\"The person is not valid to login\")"
      ],
      "metadata": {
        "colab": {
          "base_uri": "https://localhost:8080/"
        },
        "id": "RIZbUnWdfGwK",
        "outputId": "b2dd1eda-0421-49b0-a0e1-5071c4c20bcb"
      },
      "execution_count": null,
      "outputs": [
        {
          "output_type": "stream",
          "name": "stdout",
          "text": [
            "Enter the username: Aditya\n",
            "Enter the password: Rock123\n",
            "You are logged in to system!\n"
          ]
        }
      ]
    },
    {
      "cell_type": "markdown",
      "source": [
        "Experiment 10 - Lambda Function"
      ],
      "metadata": {
        "id": "YKrCtXH2fFOi"
      }
    },
    {
      "cell_type": "code",
      "source": [
        "marks = [('Mathematics', 93), ('Python', 95), ('Environment',96)]\n",
        "print(\"Original list of tuples:\")\n",
        "print(marks)\n",
        "marks.sort(key = lambda x: x[1])\n",
        "print(\"\\nSorting the List of Tuples:\")\n",
        "print(marks)"
      ],
      "metadata": {
        "colab": {
          "base_uri": "https://localhost:8080/"
        },
        "id": "zYevYUDJgaVf",
        "outputId": "0e583f68-9a7e-4605-be80-7cfdb2a0ef36"
      },
      "execution_count": null,
      "outputs": [
        {
          "output_type": "stream",
          "name": "stdout",
          "text": [
            "Original list of tuples:\n",
            "[('Mathematics', 93), ('Python', 95), ('Environment', 96)]\n",
            "\n",
            "Sorting the List of Tuples:\n",
            "[('Mathematics', 93), ('Python', 95), ('Environment', 96)]\n"
          ]
        }
      ]
    },
    {
      "cell_type": "markdown",
      "source": [
        "Experiment 11 - Linear Search and Binary Search"
      ],
      "metadata": {
        "id": "kRTJsJIIhBJr"
      }
    },
    {
      "cell_type": "code",
      "source": [
        "def linearSearch(lst,item):\n",
        "  for i in range(len(lst)):\n",
        "    if lst[i]==item:\n",
        "      return f\"The element {item} is at index {i}\"\n",
        "  return -1\n",
        "def binarySearch(lst,item):\n",
        "  lst.sort()\n",
        "  print(\"The sorted list is:\",lst)\n",
        "  low,high=0,len(lst)-1\n",
        "  while low<=high:\n",
        "    mid=(low+high)//2\n",
        "    mid_element=lst[mid]\n",
        "    if mid_element==item:\n",
        "      return f\"The element {item} is at index {mid}\"\n",
        "    if mid_element<item:\n",
        "      low=mid+1\n",
        "    elif mid_element>item:\n",
        "      high=mid-1\n",
        "    return -1\n",
        "ls=[]\n",
        "n=int(input(\"Enter the number of elements: \"))\n",
        "print(\"Enter the elements: \")\n",
        "for i in range(n):\n",
        "  ls.append(int(input()))\n",
        "print(\"Your list is: \",ls)\n",
        "it=int(input(\"Enter item to search: \"))\n",
        "ch=int(input(\"Enter 0 for linear search and 1 for binary search: \"))\n",
        "if ch==0:\n",
        "  print(linearSearch(ls,it))\n",
        "else:\n",
        "  print(binarySearch(ls,it))"
      ],
      "metadata": {
        "colab": {
          "base_uri": "https://localhost:8080/"
        },
        "id": "TdyQiD9CBEzP",
        "outputId": "25bdcafd-70d5-4ef0-f924-4fef56a6ea47"
      },
      "execution_count": null,
      "outputs": [
        {
          "output_type": "stream",
          "name": "stdout",
          "text": [
            "Enter the number of elements: 3\n",
            "Enter the elements: \n",
            "2\n",
            "3\n",
            "8\n",
            "Your list is:  [2, 3, 8]\n",
            "Enter item to search: 8\n",
            "Enter 0 for linear search and 1 for binary search: 1\n",
            "The sorted list is: [2, 3, 8]\n",
            "-1\n"
          ]
        }
      ]
    },
    {
      "cell_type": "markdown",
      "source": [
        "Experiment 12 - List Manipulation"
      ],
      "metadata": {
        "id": "dS6XOF9zhIhx"
      }
    },
    {
      "cell_type": "code",
      "source": [
        "l1= [\"M\",\"Na\",\"i\",\"Sa\"]\n",
        "l2 = [\"y\",\"me\",\"s\",\"nada\"]\n",
        "l3=[]\n",
        "\n",
        "for i in range(len(l1)):\n",
        "    l3.append(l1[i]+l2[i])\n",
        "print(l3)         "
      ],
      "metadata": {
        "colab": {
          "base_uri": "https://localhost:8080/"
        },
        "id": "CiWWpSUaZ-jB",
        "outputId": "09f8010d-f910-4e00-eb29-c5ab980d2f3e"
      },
      "execution_count": null,
      "outputs": [
        {
          "output_type": "stream",
          "name": "stdout",
          "text": [
            "['My', 'Name', 'is', 'Sanada']\n"
          ]
        }
      ]
    },
    {
      "cell_type": "markdown",
      "source": [
        "Experiment 13 - Merge Sort"
      ],
      "metadata": {
        "id": "xvPZozojhW_P"
      }
    },
    {
      "cell_type": "code",
      "source": [
        "def mergeSort(arr):\n",
        "    if len(arr) > 1:\n",
        "        mid = len(arr) // 2\n",
        "        L = arr[:mid]\n",
        "        R = arr[mid:]\n",
        "        mergeSort(L)\n",
        "        mergeSort(R)\n",
        "        i = j = k = 0\n",
        "\n",
        "        while i < len(L) and j < len(R):\n",
        "            if L[i] < R[j]:\n",
        "                arr[k] = L[i]\n",
        "                i += 1\n",
        "            else:\n",
        "                arr[k] = R[j]\n",
        "                j += 1\n",
        "            k += 1\n",
        "\n",
        "        while i < len(L):\n",
        "            arr[k] = L[i]\n",
        "            i += 1\n",
        "            k += 1\n",
        "\n",
        "        while j < len(R):\n",
        "            arr[k] = R[j]\n",
        "            j += 1\n",
        "            k += 1\n",
        "    return arr\n",
        "#selection sort\n",
        "def selectionSort(arr):\n",
        "    for i in range(len(arr)):\n",
        "        min_idx = i\n",
        "        for j in range(i + 1, len(arr)):\n",
        "            if arr[min_idx] > arr[j]:\n",
        "                min_idx = j\n",
        "        arr[i], arr[min_idx] = arr[min_idx], arr[i]\n",
        "    return arr\n",
        "#insertion sort\n",
        "def insertionSort(array):\n",
        "    for step in range(1, len(array)):\n",
        "        key = array[step]\n",
        "        j = step - 1\n",
        "        while j >= 0 and key < array[j]:\n",
        "            array[j + 1] = array[j]\n",
        "            j = j - 1\n",
        "        array[j + 1] = key\n",
        "    return array"
      ],
      "metadata": {
        "id": "qgpRKh6oBJRO"
      },
      "execution_count": null,
      "outputs": []
    },
    {
      "cell_type": "markdown",
      "source": [
        "Experiment 14 - Random Password Generator"
      ],
      "metadata": {
        "id": "Jrcee4Uzhm_t"
      }
    },
    {
      "cell_type": "code",
      "source": [
        "import random\n",
        "l=['a','b','c','d','e','f','g','h','i','j','k','l','m','n','o','p','q','r','s','t','u','v','w','x','y','z','A','B','C','D','F','G','H','I','J','K','L','M','N','O','P','Q','R','S','T','U','V','W','X','Y','Z']\n",
        "\n",
        "n=['0','1','2','3','4','5','6','7','8','9']\n",
        "\n",
        "c=['!','@','#','$','%','$','%','&','*','~']\n",
        "\n",
        "n_l= int(input(\"enter the number of letters you want : \"))\n",
        "n_n= int(input(\"enter the number of numbers you want : \"))\n",
        "n_c= int(input(\"enter the number of characters you want : \"))\n",
        "\n",
        "pswd=[]\n",
        "\n",
        "for i in range (0,n_l):\n",
        "  pswd.append(random.choice(l))\n",
        "for i in range (0,n_n):\n",
        "  pswd.append(random.choice(n))  \n",
        "for i in range (0,n_c):\n",
        "  pswd.append(random.choice(c))\n",
        "\n",
        "random.shuffle(pswd)\n",
        "pasf=\"\".join(pswd)\n",
        "print(pasf)"
      ],
      "metadata": {
        "colab": {
          "base_uri": "https://localhost:8080/"
        },
        "id": "Px3UXexEiXTM",
        "outputId": "611fed62-68b0-42f3-bfed-ec1c5673f8f5"
      },
      "execution_count": null,
      "outputs": [
        {
          "output_type": "stream",
          "name": "stdout",
          "text": [
            "enter the number of letters you want : 2\n",
            "enter the number of numbers you want : 3\n",
            "enter the number of characters you want : 1\n",
            "R65q!5\n"
          ]
        }
      ]
    }
  ]
}